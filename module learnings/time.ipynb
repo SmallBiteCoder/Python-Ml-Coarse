{
 "cells": [
  {
   "cell_type": "code",
   "execution_count": 1,
   "id": "37e27dec",
   "metadata": {},
   "outputs": [],
   "source": [
    "import time"
   ]
  },
  {
   "cell_type": "code",
   "execution_count": 3,
   "id": "e571ec80",
   "metadata": {},
   "outputs": [
    {
     "name": "stdout",
     "output_type": "stream",
     "text": [
      "This module provides various functions to manipulate time values.\n",
      "\n",
      "There are two standard representations of time.  One is the number\n",
      "of seconds since the Epoch, in UTC (a.k.a. GMT).  It may be an integer\n",
      "or a floating-point number (to represent fractions of seconds).\n",
      "The epoch is the point where the time starts, the return value of time.gmtime(0).\n",
      "It is January 1, 1970, 00:00:00 (UTC) on all platforms.\n",
      "\n",
      "The other representation is a tuple of 9 integers giving local time.\n",
      "The tuple items are:\n",
      "  year (including century, e.g. 1998)\n",
      "  month (1-12)\n",
      "  day (1-31)\n",
      "  hours (0-23)\n",
      "  minutes (0-59)\n",
      "  seconds (0-59)\n",
      "  weekday (0-6, Monday is 0)\n",
      "  Julian day (day in the year, 1-366)\n",
      "  DST (Daylight Savings Time) flag (-1, 0 or 1)\n",
      "If the DST flag is 0, the time is given in the regular time zone;\n",
      "if it is 1, the time is given in the DST time zone;\n",
      "if it is -1, mktime() should guess based on the date and time.\n",
      "\n"
     ]
    }
   ],
   "source": [
    "time.__doc__\n",
    "print(time.__doc__)"
   ]
  }
 ],
 "metadata": {
  "kernelspec": {
   "display_name": "Python 3",
   "language": "python",
   "name": "python3"
  },
  "language_info": {
   "codemirror_mode": {
    "name": "ipython",
    "version": 3
   },
   "file_extension": ".py",
   "mimetype": "text/x-python",
   "name": "python",
   "nbconvert_exporter": "python",
   "pygments_lexer": "ipython3",
   "version": "3.13.5"
  }
 },
 "nbformat": 4,
 "nbformat_minor": 5
}
